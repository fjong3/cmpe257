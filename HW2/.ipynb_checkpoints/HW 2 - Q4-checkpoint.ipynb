{
 "cells": [
  {
   "cell_type": "code",
   "execution_count": 1,
   "metadata": {},
   "outputs": [],
   "source": [
    "## Import Library\n",
    "import numpy as np\n",
    "import pandas as pd\n",
    "import scipy\n",
    "from sklearn.datasets import load_iris\n",
    "import matplotlib.pyplot as plt"
   ]
  },
  {
   "cell_type": "markdown",
   "metadata": {},
   "source": [
    "### 4A. Load Iris Dataset"
   ]
  },
  {
   "cell_type": "code",
   "execution_count": 2,
   "metadata": {},
   "outputs": [],
   "source": [
    "# Load Iris Dataset\n",
    "iris = load_iris()"
   ]
  },
  {
   "cell_type": "markdown",
   "metadata": {},
   "source": [
    "### 4B. Print target names and feature names"
   ]
  },
  {
   "cell_type": "code",
   "execution_count": 3,
   "metadata": {},
   "outputs": [
    {
     "name": "stdout",
     "output_type": "stream",
     "text": [
      "Target Names : ['setosa' 'versicolor' 'virginica']\n",
      "feature Names: ['sepal length (cm)', 'sepal width (cm)', 'petal length (cm)', 'petal width (cm)']\n"
     ]
    }
   ],
   "source": [
    "# Print target names and feature names of IRIS dataset\n",
    "print (\"Target Names :\", iris.target_names)\n",
    "print (\"feature Names:\", iris.feature_names)"
   ]
  },
  {
   "cell_type": "markdown",
   "metadata": {},
   "source": [
    "### 4B. Selected petal length (cm) and petal width (cm). Draw the plot"
   ]
  },
  {
   "cell_type": "code",
   "execution_count": 4,
   "metadata": {},
   "outputs": [
    {
     "data": {
      "text/plain": [
       "Text(0, 0.5, 'Petal width')"
      ]
     },
     "execution_count": 4,
     "metadata": {},
     "output_type": "execute_result"
    },
    {
     "data": {
      "image/png": "[encoded data removed]",
      "text/plain": [
       "<Figure size 432x288 with 1 Axes>"
      ]
     },
     "metadata": {
      "needs_background": "light"
     },
     "output_type": "display_data"
    }
   ],
   "source": [
    "#Selected Petal length and Petal width features, plotting the graphs\n",
    "X = iris.data[:, 2:]  # we only take the first two features.\n",
    "y = iris.target\n",
    "plt.scatter(X[:, 0], X[:, 1], c=y, cmap=plt.cm.Set1,\n",
    "            edgecolor='k')\n",
    "plt.xlabel('Petal length')\n",
    "plt.ylabel('Petal width')"
   ]
  },
  {
   "cell_type": "markdown",
   "metadata": {},
   "source": [
    "### 4C. Selected virginica as the target. Setting all target names as zeros. "
   ]
  },
  {
   "cell_type": "code",
   "execution_count": 5,
   "metadata": {},
   "outputs": [],
   "source": [
    "#Generate New Target Y, with virginica as the sole target. (virginica = 1)\n",
    "virginica_target = y==2\n",
    "Y = np.zeros(y.shape, dtype=int)\n",
    "Y[virginica_target] = 1"
   ]
  },
  {
   "cell_type": "markdown",
   "metadata": {},
   "source": [
    "### 4D. Split Data into training and test set"
   ]
  },
  {
   "cell_type": "code",
   "execution_count": 6,
   "metadata": {},
   "outputs": [],
   "source": [
    "#Split dataset into training and test set\n",
    "from sklearn.model_selection import train_test_split\n",
    "X_train, X_test, y_train, y_test = train_test_split(X, Y, test_size=0.2)"
   ]
  },
  {
   "cell_type": "markdown",
   "metadata": {},
   "source": [
    "### 4D. Build and train logisticregression model on training data"
   ]
  },
  {
   "cell_type": "code",
   "execution_count": 7,
   "metadata": {},
   "outputs": [
    {
     "data": {
      "text/plain": [
       "0.9333333333333333"
      ]
     },
     "execution_count": 7,
     "metadata": {},
     "output_type": "execute_result"
    }
   ],
   "source": [
    "#Build and train a logistic regression Model\n",
    "from sklearn.linear_model import LogisticRegression\n",
    "clf = LogisticRegression(solver = 'liblinear') #Default Parameter\n",
    "clf.fit(X_train, y_train)\n",
    "clf.score(X_test, y_test)"
   ]
  },
  {
   "cell_type": "markdown",
   "metadata": {},
   "source": [
    "### 4D. Test the trained model and report the estimated probability on samples in the test data set"
   ]
  },
  {
   "cell_type": "code",
   "execution_count": 8,
   "metadata": {},
   "outputs": [
    {
     "name": "stdout",
     "output_type": "stream",
     "text": [
      "Estimate Probabilty of samples in test data:\n",
      " [[0.96611599 0.03388401]\n",
      " [0.66697088 0.33302912]\n",
      " [0.96611599 0.03388401]\n",
      " [0.9665779  0.0334221 ]\n",
      " [0.96642461 0.03357539]\n",
      " [0.62538688 0.37461312]\n",
      " [0.55164888 0.44835112]\n",
      " [0.96642461 0.03357539]\n",
      " [0.97349091 0.02650909]\n",
      " [0.93120603 0.06879397]\n",
      " [0.80616615 0.19383385]\n",
      " [0.43165263 0.56834737]\n",
      " [0.61198421 0.38801579]\n",
      " [0.61198421 0.38801579]\n",
      " [0.18064202 0.81935798]\n",
      " [0.66802172 0.33197828]\n",
      " [0.94477264 0.05522736]\n",
      " [0.11731312 0.88268688]\n",
      " [0.09515597 0.90484403]\n",
      " [0.66591838 0.33408162]\n",
      " [0.55632833 0.44367167]\n",
      " [0.32538124 0.67461876]\n",
      " [0.38541637 0.61458363]\n",
      " [0.14497948 0.85502052]\n",
      " [0.37648415 0.62351585]\n",
      " [0.95678043 0.04321957]\n",
      " [0.66697088 0.33302912]\n",
      " [0.96627064 0.03372936]\n",
      " [0.94526465 0.05473535]\n",
      " [0.80983863 0.19016137]]\n"
     ]
    }
   ],
   "source": [
    "# Report the estimate probabilty of the samples in test data\n",
    "y_pred_prob = clf.predict_proba(X_test)\n",
    "print (\"Estimate Probabilty of samples in test data:\\n\", y_pred_prob)"
   ]
  },
  {
   "cell_type": "markdown",
   "metadata": {},
   "source": [
    "### 4E. Perform k-fold split on training data (k = 4)"
   ]
  },
  {
   "cell_type": "code",
   "execution_count": 18,
   "metadata": {},
   "outputs": [
    {
     "name": "stdout",
     "output_type": "stream",
     "text": [
      "KFold(n_splits=4, random_state=None, shuffle=False)\n"
     ]
    }
   ],
   "source": [
    "#Perform K fold cross validation and on training data\n",
    "from sklearn.model_selection import KFold\n",
    "kf = KFold(n_splits=4)\n",
    "print (kf)\n",
    "kfoldval = kf.split(X_train, y_train)"
   ]
  },
  {
   "cell_type": "markdown",
   "metadata": {},
   "source": [
    "### 4E. Perform Stratified k-fold split on training data (k = 4)"
   ]
  },
  {
   "cell_type": "code",
   "execution_count": 10,
   "metadata": {},
   "outputs": [
    {
     "name": "stdout",
     "output_type": "stream",
     "text": [
      "StratifiedKFold(n_splits=4, random_state=None, shuffle=False)\n"
     ]
    }
   ],
   "source": [
    "#Perform Stratified K-fold cross validation on training data\n",
    "from sklearn.model_selection import StratifiedKFold\n",
    "skf = StratifiedKFold(n_splits=4)\n",
    "print (skf)\n",
    "skfoldval = skf.split(X_train, y_train)"
   ]
  },
  {
   "cell_type": "markdown",
   "metadata": {},
   "source": [
    "### 4E. K-fold split will split the data into K-folds randomly without looking at the class labels. Stratified k-fold will split the data while maintaining the percentage of samples for each class in each fold. "
   ]
  },
  {
   "cell_type": "markdown",
   "metadata": {},
   "source": [
    "### 4F. Use model selection.cross val score to generate the cross validation score by 4 folds with the model in"
   ]
  },
  {
   "cell_type": "code",
   "execution_count": 11,
   "metadata": {},
   "outputs": [
    {
     "name": "stdout",
     "output_type": "stream",
     "text": [
      "Cross Validation Scores [1.         0.97368421 0.89189189 0.83783784]\n"
     ]
    }
   ],
   "source": [
    "#Generate cross_validation_score\n",
    "from sklearn.model_selection import cross_val_score\n",
    "scores = cross_val_score(clf, X, Y, cv=4)  \n",
    "print (\"Cross Validation Scores\", scores)"
   ]
  }
 ],
 "metadata": {
  "kernelspec": {
   "display_name": "Python 3",
   "language": "python",
   "name": "python3"
  },
  "language_info": {
   "codemirror_mode": {
    "name": "ipython",
    "version": 3
   },
   "file_extension": ".py",
   "mimetype": "text/x-python",
   "name": "python",
   "nbconvert_exporter": "python",
   "pygments_lexer": "ipython3",
   "version": "3.6.8"
  }
 },
 "nbformat": 4,
 "nbformat_minor": 2
}
