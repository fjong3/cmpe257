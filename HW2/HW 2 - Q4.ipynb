{
 "cells": [
  {
   "cell_type": "code",
   "execution_count": 19,
   "metadata": {},
   "outputs": [],
   "source": [
    "## Import Library\n",
    "import numpy as np\n",
    "import pandas as pd\n",
    "import scipy\n",
    "from sklearn.datasets import load_iris\n",
    "import matplotlib.pyplot as plt"
   ]
  },
  {
   "cell_type": "code",
   "execution_count": 20,
   "metadata": {},
   "outputs": [],
   "source": [
    "# Load Iris Dataset\n",
    "iris = load_iris()"
   ]
  },
  {
   "cell_type": "code",
   "execution_count": 21,
   "metadata": {},
   "outputs": [
    {
     "name": "stdout",
     "output_type": "stream",
     "text": [
      "Target Names : ['setosa' 'versicolor' 'virginica']\n",
      "feature Names: ['sepal length (cm)', 'sepal width (cm)', 'petal length (cm)', 'petal width (cm)']\n"
     ]
    }
   ],
   "source": [
    "# Print target names and feature names of IRIS dataset\n",
    "print (\"Target Names :\", iris.target_names)\n",
    "print (\"feature Names:\", iris.feature_names)"
   ]
  },
  {
   "cell_type": "code",
   "execution_count": 22,
   "metadata": {},
   "outputs": [],
   "source": [
    "#Selected Petal length and Petal width features, plotting the graphs\n",
    "X = iris.data[:, 2:]  # we only take the first two features.\n",
    "y = iris.target\n",
    "plt.scatter(X[:, 0], X[:, 1], c=y, cmap=plt.cm.Set1,\n",
    "            edgecolor='k')\n",
    "plt.xlabel('Petal length')\n",
    "plt.ylabel('Petal width')"
   ]
  },
  {
   "cell_type": "code",
   "execution_count": 47,
   "metadata": {},
   "outputs": [],
   "source": [
    "#Generate New Target Y, with setosa as the sole target.\n",
    "setosa_target = y==0\n",
    "Y = np.zeros(y.shape, dtype=int)\n",
    "Y[setosa_target] = 1"
   ]
  },
  {
   "cell_type": "code",
   "execution_count": 50,
   "metadata": {},
   "outputs": [],
   "source": [
    "#Split dataset into training and test set\n",
    "from sklearn.model_selection import train_test_split\n",
    "X_train, X_test, y_train, y_test = train_test_split(X, Y, test_size=0.2, random_state=42)"
   ]
  },
  {
   "cell_type": "code",
   "execution_count": 56,
   "metadata": {},
   "outputs": [
    {
     "name": "stderr",
     "output_type": "stream",
     "text": [
      "D:\\Anaconda\\lib\\site-packages\\sklearn\\linear_model\\logistic.py:433: FutureWarning: Default solver will be changed to 'lbfgs' in 0.22. Specify a solver to silence this warning.\n",
      "  FutureWarning)\n"
     ]
    }
   ],
   "source": [
    "#Build and train a logistic regression Model\n",
    "from sklearn.linear_model import LogisticRegression\n",
    "clf = LogisticRegression() #Default Parameter\n",
    "clf.fit(X_train, y_train)"
   ]
  },
  {
   "cell_type": "code",
   "execution_count": 63,
   "metadata": {},
   "outputs": [
    {
     "name": "stdout",
     "output_type": "stream",
     "text": [
      "Estimate Probabilty of samples in test data:\n",
      " [[9.66631254e-01 3.33687459e-02]\n",
      " [2.07167931e-01 7.92832069e-01]\n",
      " [9.99453566e-01 5.46434145e-04]\n",
      " [9.73890431e-01 2.61095687e-02]\n",
      " [9.77919688e-01 2.20803122e-02]\n",
      " [1.97165192e-01 8.02834808e-01]\n",
      " [9.10250872e-01 8.97491283e-02]\n",
      " [9.96075601e-01 3.92439890e-03]\n",
      " [9.73890431e-01 2.61095687e-02]\n",
      " [9.23327875e-01 7.66721255e-02]\n",
      " [9.93721791e-01 6.27820851e-03]\n",
      " [1.20673967e-01 8.79326033e-01]\n",
      " [1.25827064e-01 8.74172936e-01]\n",
      " [1.32809326e-01 8.67190674e-01]\n",
      " [1.73428715e-01 8.26571285e-01]\n",
      " [9.81940293e-01 1.80597068e-02]\n",
      " [9.97865167e-01 2.13483284e-03]\n",
      " [9.11414833e-01 8.85851670e-02]\n",
      " [9.64571659e-01 3.54283409e-02]\n",
      " [9.97342722e-01 2.65727842e-03]\n",
      " [1.66697898e-01 8.33302102e-01]\n",
      " [9.89335467e-01 1.06645331e-02]\n",
      " [2.15110996e-01 7.84889004e-01]\n",
      " [9.96891122e-01 3.10887833e-03]\n",
      " [9.98484841e-01 1.51515941e-03]\n",
      " [9.96481966e-01 3.51803352e-03]\n",
      " [9.96000506e-01 3.99949363e-03]\n",
      " [9.98364812e-01 1.63518767e-03]\n",
      " [1.58259136e-01 8.41740864e-01]\n",
      " [1.66697898e-01 8.33302102e-01]]\n"
     ]
    }
   ],
   "source": [
    "# Report the estimate probabilty of the samples in test data\n",
    "y_pred_prob = clf.predict_proba(X_test)\n",
    "print (\"Estimate Probabilty of samples in test data:\\n\", y_pred_prob)"
   ]
  },
  {
   "cell_type": "code",
   "execution_count": null,
   "metadata": {},
   "outputs": [],
   "source": [
    "#Perform K fold cross validation and  Stratified K-fold cross validation on training data"
   ]
  }
 ],
 "metadata": {
  "kernelspec": {
   "display_name": "Python 3",
   "language": "python",
   "name": "python3"
  },
  "language_info": {
   "codemirror_mode": {
    "name": "ipython",
    "version": 3
   },
   "file_extension": ".py",
   "mimetype": "text/x-python",
   "name": "python",
   "nbconvert_exporter": "python",
   "pygments_lexer": "ipython3",
   "version": "3.6.8"
  }
 },
 "nbformat": 4,
 "nbformat_minor": 2
}
