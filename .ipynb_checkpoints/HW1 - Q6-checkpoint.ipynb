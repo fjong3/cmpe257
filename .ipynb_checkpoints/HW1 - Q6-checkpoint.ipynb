{
 "cells": [
  {
   "cell_type": "code",
   "execution_count": 1,
   "metadata": {},
   "outputs": [],
   "source": [
    "## Import Library\n",
    "import numpy as np\n",
    "import pandas as pd\n",
    "import scipy"
   ]
  },
  {
   "cell_type": "code",
   "execution_count": 2,
   "metadata": {},
   "outputs": [
    {
     "name": "stdout",
     "output_type": "stream",
     "text": [
      "(506, 13)\n"
     ]
    }
   ],
   "source": [
    "## Import Dataset\n",
    "from sklearn.datasets import load_boston\n",
    "boston = load_boston()\n",
    "print(boston.data.shape)\n",
    "# Data set has 506 instances and 13 attributes"
   ]
  },
  {
   "cell_type": "code",
   "execution_count": 3,
   "metadata": {},
   "outputs": [],
   "source": [
    "## Split attributes and target \n",
    "#from sklearn.utils import shuffle\n",
    "X = boston.data\n",
    "y = boston.target\n",
    "#X, y = shuffle(boston.data, boston.target)"
   ]
  },
  {
   "cell_type": "code",
   "execution_count": 4,
   "metadata": {},
   "outputs": [],
   "source": [
    "## Split into train and test set\n",
    "from sklearn.model_selection import train_test_split\n",
    "X_train, X_test, y_train, y_test = train_test_split(X, y, test_size=0.2)"
   ]
  },
  {
   "cell_type": "code",
   "execution_count": 5,
   "metadata": {},
   "outputs": [],
   "source": [
    "## Train Linear Regression Model on Training Dataset\n",
    "from sklearn.linear_model import LinearRegression\n",
    "model = LinearRegression().fit(X_train, y_train)"
   ]
  },
  {
   "cell_type": "code",
   "execution_count": 6,
   "metadata": {},
   "outputs": [
    {
     "name": "stdout",
     "output_type": "stream",
     "text": [
      "Model Score = 0.723784409131843\n",
      "Model Coefficient =  [-8.04147476e-02  4.48371654e-02 -1.88664231e-03  4.02454559e+00\n",
      " -2.30863630e+01  3.31050345e+00  1.44868656e-02 -1.53547021e+00\n",
      "  2.66387535e-01 -8.57080073e-03 -9.58079427e-01  1.02748096e-02\n",
      " -5.84980461e-01]\n"
     ]
    }
   ],
   "source": [
    "## Model Scores and coefficient\n",
    "print (\"Model Score =\", model.score(X_train, y_train)) \n",
    "print (\"Model Coefficient = \", model.coef_)"
   ]
  },
  {
   "cell_type": "code",
   "execution_count": 7,
   "metadata": {},
   "outputs": [
    {
     "name": "stdout",
     "output_type": "stream",
     "text": [
      "Mean Squared Error = 19.1776910109472\n",
      "R2_Score = 0.7832403718623178\n"
     ]
    }
   ],
   "source": [
    "## Predict Value\n",
    "y_pred = model.predict(X_test)\n",
    "## Report prediction value vs the target\n",
    "from sklearn.metrics import mean_squared_error\n",
    "from sklearn.metrics import r2_score\n",
    "print (\"Mean Squared Error =\", mean_squared_error(y_test, y_pred))\n",
    "print (\"R2_Score =\", r2_score(y_test, y_pred))"
   ]
  }
 ],
 "metadata": {
  "kernelspec": {
   "display_name": "Python 3",
   "language": "python",
   "name": "python3"
  },
  "language_info": {
   "codemirror_mode": {
    "name": "ipython",
    "version": 3
   },
   "file_extension": ".py",
   "mimetype": "text/x-python",
   "name": "python",
   "nbconvert_exporter": "python",
   "pygments_lexer": "ipython3",
   "version": "3.6.8"
  }
 },
 "nbformat": 4,
 "nbformat_minor": 2
}
